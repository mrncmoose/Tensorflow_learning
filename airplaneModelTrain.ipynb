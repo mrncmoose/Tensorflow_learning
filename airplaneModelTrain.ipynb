{
 "cells": [
  {
   "cell_type": "markdown",
   "metadata": {},
   "source": [
    "First check what mobile net thinks of the image: ![Airplane image](cameraImages/5MTC0147.JPG)"
   ]
  },
  {
   "cell_type": "code",
   "execution_count": 1,
   "metadata": {},
   "outputs": [
    {
     "name": "stdout",
     "output_type": "stream",
     "text": [
      "1/1 [==============================] - 1s 1s/step\n",
      "Image - cameraImages/5MTC0145.JPG has a prediction of radio_telescope with 57.45%% accuracy\n",
      "Image - cameraImages/5MTC0145.JPG has a prediction of space_shuttle with 4.43%% accuracy\n",
      "Image - cameraImages/5MTC0145.JPG has a prediction of wing with 3.26%% accuracy\n",
      "Image - cameraImages/5MTC0145.JPG has a prediction of wreck with 3.15%% accuracy\n",
      "Image - cameraImages/5MTC0145.JPG has a prediction of white_stork with 2.09%% accuracy\n"
     ]
    }
   ],
   "source": [
    "from keras.applications.mobilenet_v2 import MobileNetV2\n",
    "from keras.applications.mobilenet_v2 import preprocess_input\n",
    "from keras.applications.mobilenet_v2 import decode_predictions\n",
    "import numpy as np\n",
    "import imageio.v2 as imageio\n",
    "import PIL.Image as Image\n",
    "\n",
    "imageDir = 'cameraImages'\n",
    "imageFile = imageDir + '/5MTC0145.JPG'\n",
    "img = Image.open(imageFile)\n",
    "img.show()\n",
    "\n",
    "img_height = 224\n",
    "img_width = 224\n",
    "model = MobileNetV2(weights='imagenet')\n",
    "data = np.empty((1, 224, 224, 3))\n",
    "img = imageio.imread(imageFile)\n",
    "data[0] = Image.fromarray(img).resize((img_height, img_width))\n",
    "data = preprocess_input(data)\n",
    "predictions = model.predict(data)\n",
    "output_neuron = np.argmax(predictions[0])\n",
    "for name, desc, score in decode_predictions(predictions)[0]:\n",
    "    print('Image - {} has a prediction of {} with {:.2f}%% accuracy'.format(imageFile, desc, 100 * score))"
   ]
  }
 ],
 "metadata": {
  "kernelspec": {
   "display_name": "Python 3.10.2 ('.venv': venv)",
   "language": "python",
   "name": "python3"
  },
  "language_info": {
   "codemirror_mode": {
    "name": "ipython",
    "version": 3
   },
   "file_extension": ".py",
   "mimetype": "text/x-python",
   "name": "python",
   "nbconvert_exporter": "python",
   "pygments_lexer": "ipython3",
   "version": "3.10.2"
  },
  "orig_nbformat": 4,
  "vscode": {
   "interpreter": {
    "hash": "c419681035e5a7a1a5d248bb47d79465c2e758b6011fe7760503b7188da7cc6e"
   }
  }
 },
 "nbformat": 4,
 "nbformat_minor": 2
}
