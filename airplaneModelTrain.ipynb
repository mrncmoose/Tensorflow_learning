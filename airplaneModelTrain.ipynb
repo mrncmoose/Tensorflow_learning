{
 "cells": [
  {
   "cell_type": "markdown",
   "metadata": {},
   "source": [
    "First check what mobile net thinks of the image: ![Airplane image](cameraImages/5MTC0109.JPG)"
   ]
  },
  {
   "cell_type": "code",
   "execution_count": null,
   "metadata": {},
   "outputs": [],
   "source": []
  },
  {
   "cell_type": "code",
   "execution_count": 3,
   "metadata": {},
   "outputs": [
    {
     "name": "stdout",
     "output_type": "stream",
     "text": [
      "1/1 [==============================] - 0s 375ms/step\n",
      "Image - cameraImages/5MTC0109.JPG has a prediction of minivan with 17.22%% accuracy\n",
      "Image - cameraImages/5MTC0109.JPG has a prediction of jeep with 15.73%% accuracy\n",
      "Image - cameraImages/5MTC0109.JPG has a prediction of car_wheel with 12.08%% accuracy\n",
      "Image - cameraImages/5MTC0109.JPG has a prediction of pickup with 5.75%% accuracy\n",
      "Image - cameraImages/5MTC0109.JPG has a prediction of trailer_truck with 4.69%% accuracy\n"
     ]
    }
   ],
   "source": [
    "from keras.applications.mobilenet_v2 import MobileNetV2\n",
    "from keras.applications.mobilenet_v2 import preprocess_input\n",
    "from keras.applications.mobilenet_v2 import decode_predictions\n",
    "import numpy as np\n",
    "import imageio.v2 as imageio\n",
    "import PIL.Image as Image\n",
    "\n",
    "imageDir = 'cameraImages'\n",
    "imageFile = imageDir + '/5MTC0109.JPG'\n",
    "img = Image.open(imageFile)\n",
    "img.show()\n",
    "\n",
    "img_height = 224\n",
    "img_width = 224\n",
    "model = MobileNetV2(weights='imagenet')\n",
    "data = np.empty((1, 224, 224, 3))\n",
    "img = imageio.imread(imageFile)\n",
    "data[0] = Image.fromarray(img).resize((img_height, img_width))\n",
    "data = preprocess_input(data)\n",
    "predictions = model.predict(data)\n",
    "output_neuron = np.argmax(predictions[0])\n",
    "for name, desc, score in decode_predictions(predictions)[0]:\n",
    "    print('Image - {} has a prediction of {} with {:.2f}%% accuracy'.format(imageFile, desc, 100 * score))"
   ]
  }
 ],
 "metadata": {
  "kernelspec": {
   "display_name": "Python 3.10.1 64-bit",
   "language": "python",
   "name": "python3"
  },
  "language_info": {
   "codemirror_mode": {
    "name": "ipython",
    "version": 3
   },
   "file_extension": ".py",
   "mimetype": "text/x-python",
   "name": "python",
   "nbconvert_exporter": "python",
   "pygments_lexer": "ipython3",
   "version": "3.10.1"
  },
  "orig_nbformat": 4,
  "vscode": {
   "interpreter": {
    "hash": "aee8b7b246df8f9039afb4144a1f6fd8d2ca17a180786b69acc140d282b71a49"
   }
  }
 },
 "nbformat": 4,
 "nbformat_minor": 2
}
